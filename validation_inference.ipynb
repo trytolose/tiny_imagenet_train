{
 "cells": [
  {
   "cell_type": "code",
   "execution_count": 14,
   "metadata": {},
   "outputs": [],
   "source": [
    "from dataset import TinyImagenetDataset\n",
    "from pathlib import Path\n",
    "import torch\n",
    "from albumentations import *\n",
    "from albumentations import Compose, RandomCrop, Normalize, HorizontalFlip, Resize\n",
    "from albumentations.pytorch import ToTensorV2\n",
    "from model import get_model\n",
    "from tqdm import tqdm\n",
    "from typing import List\n",
    "from collections import OrderedDict\n",
    "import sklearn\n",
    "import numpy as np\n",
    "from matplotlib import pyplot as plt\n",
    "from sklearn.metrics import accuracy_score, confusion_matrix\n",
    "import os\n",
    "import pandas as pd\n",
    "import numpy as np\n",
    "import matplotlib.pyplot as plt\n",
    "from torch.utils.data.dataset import Dataset\n",
    "from pandas import DataFrame\n",
    "import cv2"
   ]
  },
  {
   "cell_type": "code",
   "execution_count": 8,
   "metadata": {},
   "outputs": [],
   "source": [
    "DATA_ROOT = Path(\"../input/tiny-imagenet-200\")\n",
    "TRAIN_PATH = DATA_ROOT / \"train\"\n",
    "VAL_PATH = DATA_ROOT / \"val\"\n",
    "ALL_FOLDERS = [\n",
    "    dir_name\n",
    "    for r, d, f in os.walk(TRAIN_PATH)\n",
    "    for dir_name in d\n",
    "    if dir_name != \"images\"\n",
    "]\n",
    "FOLDERS_TO_NUM = {val: index for index, val in enumerate(ALL_FOLDERS)}\n",
    "\n",
    "LABELS = pd.read_csv(\n",
    "    DATA_ROOT / \"words.txt\", sep=\"\\t\", header=None, index_col=0)[1].to_dict()\n",
    "VAL_LABELS = pd.read_csv(\n",
    "    DATA_ROOT / \"val\" / \"val_annotations.txt\", sep=\"\\t\", header=None, index_col=0)[1].to_dict()\n",
    "\n",
    "\n",
    "class TinyImagenetDataset(Dataset):\n",
    "\n",
    "    _root: Path\n",
    "    _df: DataFrame\n",
    "\n",
    "    def __init__(self, path, transform):\n",
    "        self._transform = transform\n",
    "        self._df = pd.read_csv(\"validation.csv\")\n",
    "        \n",
    "\n",
    "    def __getitem__(self, index: int):\n",
    "        path, label = self._df.loc[index, :]\n",
    "        \n",
    "        if self._transform:\n",
    "            image = cv2.imread(path)\n",
    "            image = cv2.cvtColor(image, cv2.COLOR_BGR2RGB)\n",
    "            data = {\"image\": image}\n",
    "            augmented = self._transform(**data)\n",
    "            return path, augmented['image'], label\n",
    "\n",
    "\n",
    "    def __len__(self) -> int:\n",
    "        return len(self._df)"
   ]
  },
  {
   "cell_type": "code",
   "execution_count": 9,
   "metadata": {},
   "outputs": [],
   "source": [
    "val_transform = Compose([\n",
    "    CenterCrop(56, 56),\n",
    "    Normalize(\n",
    "        mean=[0.485, 0.456, 0.406],\n",
    "        std=[0.229, 0.224, 0.225],\n",
    "        ),\n",
    "    ToTensorV2() \n",
    "])"
   ]
  },
  {
   "cell_type": "code",
   "execution_count": 10,
   "metadata": {},
   "outputs": [],
   "source": [
    "test_dataset = TinyImagenetDataset(DATA_ROOT / \"val\" / \"images\", val_transform)\n",
    "test_loader = torch.utils.data.DataLoader(\n",
    "    test_dataset,\n",
    "    batch_size=256,\n",
    "    shuffle=False,\n",
    "    num_workers=10,\n",
    ")"
   ]
  },
  {
   "cell_type": "code",
   "execution_count": 11,
   "metadata": {},
   "outputs": [],
   "source": [
    "class Args:\n",
    "    model_name = \"resnet34_wo_first_pool_dropout\"\n",
    "args = Args()"
   ]
  },
  {
   "cell_type": "code",
   "execution_count": 12,
   "metadata": {},
   "outputs": [
    {
     "data": {
      "text/plain": [
       "<All keys matched successfully>"
      ]
     },
     "execution_count": 12,
     "metadata": {},
     "output_type": "execute_result"
    }
   ],
   "source": [
    "device = torch.device(\"cuda:0\")\n",
    "model = get_model(args).to(device)\n",
    "\n",
    "model.load_state_dict(torch.load(\"results/checkpoints/resnet34_cutmix/4.pt\", map_location=device))"
   ]
  },
  {
   "cell_type": "code",
   "execution_count": 15,
   "metadata": {},
   "outputs": [
    {
     "name": "stderr",
     "output_type": "stream",
     "text": [
      "                                                                      "
     ]
    },
    {
     "name": "stdout",
     "output_type": "stream",
     "text": [
      "Accuracy score: 0.6401\n"
     ]
    },
    {
     "name": "stderr",
     "output_type": "stream",
     "text": [
      "\r"
     ]
    }
   ],
   "source": [
    "model.eval()\n",
    "test_loss = 0\n",
    "correct = 0\n",
    "val_true = []\n",
    "val_pred = []\n",
    "paths = []\n",
    "\n",
    "with torch.no_grad():\n",
    "\n",
    "    for path, images, labels in tqdm(test_loader, ncols=70, leave=False):\n",
    "        data, target = images.to(device), labels.type(torch.LongTensor).to(device)\n",
    "        output = model(data)\n",
    "\n",
    "        pred = output.argmax(dim=1, keepdim=True)\n",
    "        val_true.append(labels.cpu().numpy())\n",
    "        val_pred.append(pred.cpu().numpy())\n",
    "        paths.extend(path)\n",
    "\n",
    "\n",
    "val_true = np.concatenate(val_true)\n",
    "val_pred = np.concatenate(val_pred).reshape(-1,)\n",
    "\n",
    "\n",
    "print(\"Accuracy score:\", accuracy_score(val_true, val_pred))\n"
   ]
  },
  {
   "cell_type": "code",
   "execution_count": 16,
   "metadata": {},
   "outputs": [
    {
     "data": {
      "image/png": "[encoded data removed]",
      "text/plain": [
       "<Figure size 864x864 with 1 Axes>"
      ]
     },
     "metadata": {
      "needs_background": "light"
     },
     "output_type": "display_data"
    }
   ],
   "source": [
    "plt.figure(figsize=(12, 12))\n",
    "plt.imshow(confusion_matrix(val_true, val_pred), cmap=\"gist_heat\", interpolation=\"nearest\")\n",
    "plt.show()"
   ]
  },
  {
   "cell_type": "code",
   "execution_count": null,
   "metadata": {},
   "outputs": [],
   "source": []
  }
 ],
 "metadata": {
  "kernelspec": {
   "display_name": "Python 3",
   "language": "python",
   "name": "python3"
  },
  "language_info": {
   "codemirror_mode": {
    "name": "ipython",
    "version": 3
   },
   "file_extension": ".py",
   "mimetype": "text/x-python",
   "name": "python",
   "nbconvert_exporter": "python",
   "pygments_lexer": "ipython3",
   "version": "3.7.5"
  }
 },
 "nbformat": 4,
 "nbformat_minor": 4
}
